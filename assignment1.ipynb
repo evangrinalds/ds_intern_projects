{
  "nbformat": 4,
  "nbformat_minor": 0,
  "metadata": {
    "colab": {
      "name": "assignment1.ipynb",
      "provenance": [],
      "authorship_tag": "ABX9TyPk23i86avgj2xOpfEWme/w",
      "include_colab_link": true
    },
    "kernelspec": {
      "name": "python3",
      "display_name": "Python 3"
    },
    "language_info": {
      "name": "python"
    }
  },
  "cells": [
    {
      "cell_type": "markdown",
      "metadata": {
        "id": "view-in-github",
        "colab_type": "text"
      },
      "source": [
        "<a href=\"https://colab.research.google.com/github/evangrinalds/ds_intern_projects/blob/main/assignment1.ipynb\" target=\"_parent\"><img src=\"https://colab.research.google.com/assets/colab-badge.svg\" alt=\"Open In Colab\"/></a>"
      ]
    },
    {
      "cell_type": "markdown",
      "metadata": {
        "id": "SVYADO16NNYS"
      },
      "source": [
        "## Weekly Assignment #1\n",
        "\n"
      ]
    },
    {
      "cell_type": "markdown",
      "metadata": {
        "id": "UXr0bbSVNemY"
      },
      "source": [
        "#### Here is a messy dataset. Our executive director is looking key metrics and visualizations to share at our weekly all-staff meetings. Let's see how creative you can get! I've given you some starter code to help.\n",
        "\n",
        "\n",
        "\n",
        "\n",
        "\n"
      ]
    },
    {
      "cell_type": "markdown",
      "metadata": {
        "id": "tG7BQiszRdVc"
      },
      "source": [
        "#### 1. Exploring and cleaning the data\n"
      ]
    },
    {
      "cell_type": "code",
      "metadata": {
        "id": "gocDrTgcRgyt"
      },
      "source": [
        "import pandas as pd\n",
        "\n",
        "df = pd.read_csv('https://raw.githubusercontent.com/evangrinalds/ds_intern_projects/main/datasets/fpdata.csv')"
      ],
      "execution_count": null,
      "outputs": []
    },
    {
      "cell_type": "code",
      "metadata": {
        "id": "23SLjykRRtk1"
      },
      "source": [
        "df"
      ],
      "execution_count": null,
      "outputs": []
    },
    {
      "cell_type": "code",
      "metadata": {
        "id": "jHGeATMVRvcl"
      },
      "source": [
        "# Renaming column headers for easier access/readability\n",
        "\n",
        "df = df.rename(columns={'2.1 Organization Name':'org_name',\n",
        "                        '2.2 Project Name':'project_name',\n",
        "                        '2.4 ProjectType':'project_type',\n",
        "                        '2.5 Utilization Tracking Method (Invalid)':'util_track_method',\n",
        "                        '2.6 Federal Grant Programs':'fed_grant_programs',\n",
        "                        'Enrollment Created By':'enrollment_created_by',\n",
        "                        '3.1 FirstName':'first_name','3.1 LastName':'last_name',\n",
        "                        '5.8 Personal ID':'personal_id','5.9 Household ID':'case_id',\n",
        "                        '3.15 Relationship to HoH':'relationship_to_HoH',\n",
        "                        '3.16 Client Location':'client_location','CaseMembers':'case_members',\n",
        "                        '3.10 Enroll Date':'enroll_date','3.11 Exit Date':'exit_date',\n",
        "                        '3.12 Exit Destination':'exit_destination','3.2 SocSecNo':'ssn',\n",
        "                        '3.2 Social Security Quality':'ssn_quality','3.3 Birthdate':'dob',\n",
        "                        '3.3 Birthdate Quality':'dob_quality','Age at Enrollment':'age_at_enrollment',\n",
        "                        'Current Age':'current_age','3.4 Race':'race','3.5 Ethnicity':'ethnicity',\n",
        "                        '3.6 Gender':'gender','3.7 Veteran Status':'vet_status',\n",
        "                        '3.8 Disabling Condition at Entry':'disabling_cond_at_entry',\n",
        "                        '3.917 Living Situation':'living_situation',\n",
        "                        '3.917b Stayed Less Than 7 Nights':'stayed_7_or_less',\n",
        "                        '3.917 Stayed Less Than 90 Days':'stayed_90_or_less',\n",
        "                        '3.917b Stayed in Streets, ES or SH Night Before':'stayed_street_ES_or_SH_night_before',\n",
        "                        '3.917 Length of Stay':'length_of_stay',\n",
        "                        '3.917 Homeless Start Date':'homeless_start_date',\n",
        "                        'Length of Time Homeless (3.917 Approximate Start)':'length_of_time_homeless',\n",
        "                        '3.917 Times Homeless Last 3 Years':'times_homeless_last_3years',\n",
        "                        '3.917 Total Months Homeless Last 3 Years':'total_months_homeless',\n",
        "                        'V5 Last Permanent Address':'last_perm_address',\n",
        "                        'V5 Prior Address':'prior_address','V5 State':'state',\n",
        "                        'V5 Zip':'zip','Municipality (City or County)':'municipality',\n",
        "                        'Days Enrolled in Project':'days_enrolled_in_project',\n",
        "                        'RRH In Permanent Housing':'rrh_in_perm_housing',\n",
        "                        'RRH Date Of Move-In':'rrh_date_of_move-in',\n",
        "                        'Days Enrolled Until RRH Date of Move-in':'days_enrolled_until_rrh_movein',\n",
        "                        '4.1 Housing Status':'housing_status',\n",
        "                        '4.4 Covered by Health Insurance':'covered_by_health_insurance',\n",
        "                        '4.11 Domestic Violence':'domestic_violence',\n",
        "                        '4.11 Domestic Violence - Currently Fleeing DV?':'currently_fleeing',\n",
        "                        '4.11 Domestic Violence - When it Occurred':'when_dv_occured',\n",
        "                        '4.13 Engagement Date':'engagement_date',\n",
        "                        'Days Enrolled Until Engagement Date':'days_enrolled_until_engaged',\n",
        "                        '4.24 Current Status (Retired Data Element)':'current_status',\n",
        "                        '4.24 In School (Retired Data Element)':'in_school',\n",
        "                        '4.24 Connected to McKinney Vento Liason (Retired)':'connected_to_MVento',\n",
        "                        'Household Type':'household_type',\n",
        "                        'Latitude':'latitude','Longitude':'longitude',\n",
        "                        'R1 Referral Source':'referal_source',\n",
        "                        'R2 Date Status Determined':'date_status_determined',\n",
        "                        'R2 Enroll Status':'enroll_status',\n",
        "                        'R2 Runaway Youth':'runaway_youth',\n",
        "                        'R2 Reason Why No Services Funded':'reason_why_no_services_funded',\n",
        "                        'R3 Sexual Orientation':'sexual_orientation',\n",
        "                        'R4 Last Grade Completed':'last_grade_completed',\n",
        "                        'R5 School Status':'school_status',\n",
        "                        'R6 Employed Status':'employed_status',\n",
        "                        'R6 Why Not Employed':'reason_not_employed',\n",
        "                        'R6 Type of Employment':'type_of_employment',\n",
        "                        'R6 Looking for Work':'looking_for_work',\n",
        "                        'R7 General Health Status':'general_health_status',\n",
        "                        'R8 Dental Health Status':'dental_health_status',\n",
        "                        'R9 Mental Health Status':'mental_health_status',\n",
        "                        'R10 Pregnancy Status':'pregnancy_status',\n",
        "                        'R10 Pregnancy Due Date':'pregnancy_due_date',\n",
        "                        'Client Record Restricted':'client_record_restricted',\n",
        "                        'InfoReleaseNo':'infoReleaseNo',\n",
        "                        'Information Release Status':'info_release_status',\n",
        "                        '4.12 Contact Services':'contact_services',\n",
        "                        'Date of Last Contact (Beta)':'date_of_last_contact',\n",
        "                        'Date of First Contact (Beta)':'date_of_first_contact',\n",
        "                        'Count of Bed Nights (Housing Check-ins)':'housing_checkins',\n",
        "                        'Date of Last ES Stay (Beta)':'date_of_last_stay',\n",
        "                        'Date of First ES Stay (Beta)':'date_of_first_stay',\n",
        "                        '4.2 Income Total at Entry':'income_at_entry',\n",
        "                        '4.02 Total Income at Annual Update':'income_at_update',\n",
        "                        '4.2 Income Total at Exit':'income_at_exit',\n",
        "                        '4.3 Non-Cash Benefit Count':'non-cash_benefit_count',\n",
        "                        '4.3 Non-Cash Benefit Count at Exit':'non-cash_count_at_exit',\n",
        "                        'CurrentDate':'current_date',\n",
        "                        'Barrier Count at Entry':'barrier_count_at_entry',\n",
        "                        'Chronic Homeless Status':'chronic_homeless_status',\n",
        "                        'ProgramType':'program_type',\n",
        "                        'SOAR Eligibility Determination (Most Recent)':'soar_eligibility',\n",
        "                        'SOAR Enrollment Determination (Most Recent)':'soar_enrollment',\n",
        "                        'RRH | Most Recent Enrollment':'most_recent_rrh',\n",
        "                        'Street Outreach | Most Recent Enrollment':'most_recent_street_outreach',\n",
        "                        'Coordinated Entry | Most Recent Enrollment':'most_recent_CE',\n",
        "                        'Emergency Shelter | Most Recent Enrollment':'most_recent_ES',\n",
        "                        'Transitional Housing | Most Recent Enrollment':'most_recent_trans',\n",
        "                        'PSH | Most Recent Enrollment':'most_recent_PSH',\n",
        "                        'Prevention | Most Recent Enrollment':'most_recent_prevention',\n",
        "                        'Under 25 Years Old':'under_25',\n",
        "                        'ClientID':'client_id',\n",
        "                        '4.10 Alcohol Abuse (Substance Abuse)':'alcohol_abuse',\n",
        "                        '4.07 Chronic Health Condition':'chronic_health_condition',\n",
        "                        '4.06 Developmental Disability':'developmental_disability',\n",
        "                        '4.10 Drug Abuse (Substance Abuse)':'substance_abuse',\n",
        "                        '4.08 HIV/AIDS':'HIV_AIDS',\n",
        "                        '4.09 Mental Health Problem':'mental_health_problem',\n",
        "                        '4.05 Physical Disability':'physical_disability',\n",
        "                        'CaseChildren':'case_children','CaseAdults':'case_adults',\n",
        "                        'Bed Nights During Report Period':'bednights_during_report_period',\n",
        "                        'Count of Bed Nights - Entire Episode':'entire_episode_bednights',\n",
        "                        'HEN-HP Referral Most Recent':'most_recent_HEN-HP',\n",
        "                        'HEN-RRH Referral Most Recent':'most_recent_HEN-RRH',\n",
        "                        'WorkSource Referral Most Recent':'most_recent_worksource',\n",
        "                        'YAHP Referral Most Recent':'most_recent_YAHP',\n",
        "                        '4.04.10 Other Public':'other_public',\n",
        "                        '4.04.10 State Funded':'state_funded',\n",
        "                        '4.04.11 Indian Health Services (IHS)':'indian_health_services',\n",
        "                        '4.04.12 Other':'other',\n",
        "                        '4.04.3 Combined Childrens HealthInsurance/Medicaid':'combined_childrens_health_insurance',\n",
        "                        '4.04.3 Medicaid':'medicaid','4.04.4 Medicare':'medicare',\n",
        "                        \"4.04.5 State Children's health Insurance S-CHIP\":'CHIP',\n",
        "                        \"4.04.6 Veteran's Administration Medical Services\":'VAMS',\n",
        "                        '4.04.8 Health Insurance obtained through COBRA':'COBRA',\n",
        "                        '4.04.7 Private - Employer':'Private_employer',\n",
        "                        '4.04.9 Private':'private','4.04.9 Private - Individual':'private_individual',\n",
        "                        '4.2.3a Earned Income':'earned_income',\n",
        "                        '4.2.4b Unemployment Insurance':'unemployement_income',\n",
        "                        '4.2.5c Supplemental Security Income':'supplemental_security_income',\n",
        "                        '4.2.6d Social Security Disability  Income':'social_security_disability_income',\n",
        "                        '4.2.7e VA Disability Compensation':'VA_disability_compensation',\n",
        "                        '4.2.8f VA Disability Pension':'VA_disability_pension',\n",
        "                        '4.2.9g Private Disability Income':'private_disability_income',\n",
        "                        '4.2.10h Workers Compensation':'workers_compensation',\n",
        "                        '4.2.11i TANF':'TANF','4.2.12j General Assistance':'general_assistance',\n",
        "                        '4.2.13k Retirement (Social Security)':'retirement_social_security',\n",
        "                        '4.2.14l Pension from a Former Job':'pension_from_former_job',\n",
        "                        '4.2.15m Child Support':'child_support',\n",
        "                        '4.2.16n Alimony':'alimony',\n",
        "                        '4.2.17o Other Income':'other_income',\n",
        "                        'Chronic Homeless Status_vHMISDatAssessment':'chronic_homeless_status_assessment',\n",
        "                        'Chronic Homeless Status_EvaluatevHMIS&HMISDA':'chronic_homeless_status_evaluation',\n",
        "                        'Service':'service','Service Date':'service_date',})"
      ],
      "execution_count": null,
      "outputs": []
    },
    {
      "cell_type": "code",
      "metadata": {
        "id": "H8OsraP9Rz39"
      },
      "source": [
        "# Format Date/Time\n",
        "\n",
        "df['enroll_date'] = pd.to_datetime(df['enroll_date'], infer_datetime_format=True)\n",
        "df['exit_date'] = pd.to_datetime(df['exit_date'], infer_datetime_format=True)\n",
        "df['dob'] = pd.to_datetime(df['dob'], infer_datetime_format=True)\n",
        "df['homeless_start_date'] = pd.to_datetime(df['homeless_start_date'], infer_datetime_format=True)\n",
        "df['engagement_date'] = pd.to_datetime(df['engagement_date'], infer_datetime_format=True)\n",
        "df['date_of_last_contact'] = pd.to_datetime(df['date_of_last_contact'], infer_datetime_format=True)\n",
        "df['date_of_first_contact'] = pd.to_datetime(df['date_of_first_contact'], infer_datetime_format=True)\n",
        "df['date_of_last_stay'] = pd.to_datetime(df['date_of_last_stay'], infer_datetime_format=True)\n",
        "df['date_of_first_stay'] = pd.to_datetime(df['date_of_first_stay'], infer_datetime_format=True)\n",
        "df['current_date'] = pd.to_datetime(df['current_date'], infer_datetime_format=True)"
      ],
      "execution_count": null,
      "outputs": []
    },
    {
      "cell_type": "markdown",
      "metadata": {
        "id": "7V6JQMeDRGM9"
      },
      "source": [
        "#### 2. Perform data wrangling and feature engineering to predict target\n"
      ]
    },
    {
      "cell_type": "code",
      "metadata": {
        "id": "7gDVT4XtRhTP"
      },
      "source": [
        "!pip install pandas-profiling==2.*"
      ],
      "execution_count": null,
      "outputs": []
    },
    {
      "cell_type": "code",
      "metadata": {
        "id": "9DoHiuURR88E"
      },
      "source": [
        "from pandas_profiling import ProfileReport\n",
        "profile = ProfileReport(df, minimal=True).to_notebook_iframe()\n",
        "\n",
        "profile"
      ],
      "execution_count": null,
      "outputs": []
    },
    {
      "cell_type": "code",
      "metadata": {
        "id": "b31VYqc1SKFw"
      },
      "source": [
        "df['exit_destination'].value_counts()"
      ],
      "execution_count": null,
      "outputs": []
    },
    {
      "cell_type": "code",
      "metadata": {
        "id": "d6QE-CPpSMJt"
      },
      "source": [
        "yes = ['Rental by client with RRH or equivalent subsidy', \n",
        "                'Rental by client, no ongoing housing subsidy', \n",
        "                'Staying or living with family, permanent tenure', \n",
        "                'Rental by client, other ongoing housing subsidy',\n",
        "                'Permanent housing (other than RRH) for formerly homeless persons', \n",
        "                'Staying or living with friends, permanent tenure', \n",
        "                'Owned by client, with ongoing housing subsidy',\n",
        "                'Owned by client, no ongoing housing subsidy',\n",
        "                'Staying or living with friends, permanent tenure', \n",
        "                'Rental by client, VASH housing Subsidy'\n",
        "               ]\n",
        "no = ['Staying or living with family, temporary tenure (e.g., room, apartment or house)', \n",
        "               'Staying or living with friends, temporary tenure (e.g., room, apartment or house)', \n",
        "               'Emergency shelter, including hotel or motel paid for with emergency shelter voucher, or RHY-funded Host Home shelter',\n",
        "                'Place not meant for habitation (e.g., a vehicle, an abandoned building, bus/train/subway station/airport or anywhere outside)',\n",
        "                 'Hotel or Motel paid for without Emergency Shelter Voucher', 'Other', 'Substance Abuse Treatment or Detox Center',\n",
        "                 'Foster Care Home or Foster Care Group Home', 'Psychiatric Hospital or Other Psychiatric Facility',\n",
        "                 'Transitional Housing for homeless persons (including homeless youth)',\n",
        "                  'Client refused', 'No exit interview completed', 'nan'\n",
        "                  ]"
      ],
      "execution_count": null,
      "outputs": []
    },
    {
      "cell_type": "code",
      "metadata": {
        "id": "5bqqjlqcSN3B"
      },
      "source": [
        "import numpy as np\n",
        "col = 'exit_destination'\n",
        "conditions = [df[col].isin(yes), df[col].isin(no)]\n",
        "choices = ['1', '0',]\n",
        "df['perm_exit'] = np.select(conditions, choices)    "
      ],
      "execution_count": null,
      "outputs": []
    },
    {
      "cell_type": "code",
      "metadata": {
        "colab": {
          "base_uri": "https://localhost:8080/"
        },
        "id": "OyLiUolxSPNL",
        "outputId": "8936e857-8ec9-4bef-9471-a801d50aec00"
      },
      "source": [
        "df['perm_exit'].value_counts()"
      ],
      "execution_count": null,
      "outputs": [
        {
          "output_type": "execute_result",
          "data": {
            "text/plain": [
              "0    1235\n",
              "1     583\n",
              "Name: perm_exit, dtype: int64"
            ]
          },
          "metadata": {},
          "execution_count": 17
        }
      ]
    },
    {
      "cell_type": "markdown",
      "metadata": {
        "id": "jsau9bweRQak"
      },
      "source": [
        "#### 3. Model Selection and Tuning\n"
      ]
    },
    {
      "cell_type": "code",
      "metadata": {
        "id": "azh3y9dcRh1Z"
      },
      "source": [
        ""
      ],
      "execution_count": null,
      "outputs": []
    },
    {
      "cell_type": "markdown",
      "metadata": {
        "id": "ZX9-JZFPRUUo"
      },
      "source": [
        "#### 4. Create Visualizations"
      ]
    },
    {
      "cell_type": "code",
      "metadata": {
        "id": "RavThqBTRigW"
      },
      "source": [
        ""
      ],
      "execution_count": null,
      "outputs": []
    }
  ]
}